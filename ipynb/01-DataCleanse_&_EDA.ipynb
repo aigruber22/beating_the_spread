{
 "cells": [
  {
   "cell_type": "code",
   "execution_count": 1,
   "metadata": {},
   "outputs": [],
   "source": [
    "import pandas as pd\n",
    "import numpy as np\n",
    "import matplotlib.pyplot as plt\n",
    "% matplotlib inline\n",
    "import seaborn as sns"
   ]
  },
  {
   "cell_type": "code",
   "execution_count": 2,
   "metadata": {},
   "outputs": [],
   "source": [
    "df = pd.read_csv(\"../data/NBADiamondMine.csv\")"
   ]
  },
  {
   "cell_type": "code",
   "execution_count": 4,
   "metadata": {},
   "outputs": [
    {
     "data": {
      "text/plain": [
       "(815, 31)"
      ]
     },
     "execution_count": 4,
     "metadata": {},
     "output_type": "execute_result"
    }
   ],
   "source": [
    "df.shape"
   ]
  },
  {
   "cell_type": "code",
   "execution_count": 14,
   "metadata": {},
   "outputs": [],
   "source": [
    "df.columns = df.columns.str.strip()\n",
    "df.rename(columns=lambda x: x.replace(' ', '_'), inplace=True)"
   ]
  },
  {
   "cell_type": "code",
   "execution_count": 15,
   "metadata": {},
   "outputs": [
    {
     "data": {
      "text/plain": [
       "Index(['#', 'Date', 'Away_Team', '1Q', '2Q', '3Q', '4Q', 'Total', 'Home_Team',\n",
       "       '1Q.1', '2Q.1', '3Q.1', '4Q.1', 'Total.1', 'Game_Total', 'Over/Under',\n",
       "       'Result', 'Favorite', 'Spread', 'Home_Pts/G', 'Home_Opp_Pts/G',\n",
       "       'Home_SRS', 'Home_Pace', 'Home_Off_Rat', 'Home_Def_Rat', 'Away_Pts/G',\n",
       "       'Away_Opp_Pts/G', 'Away_SRS', 'Away_Pace', 'Away_Off_Rat',\n",
       "       'Away_Def_Rat'],\n",
       "      dtype='object')"
      ]
     },
     "execution_count": 15,
     "metadata": {},
     "output_type": "execute_result"
    }
   ],
   "source": [
    "df.columns"
   ]
  },
  {
   "cell_type": "code",
   "execution_count": 16,
   "metadata": {},
   "outputs": [
    {
     "data": {
      "text/plain": [
       "array(['-4.5', '-9.5', '-3', '-6.5', '-3.5', '-1.5', '-2', '-5.5', '-2.5',\n",
       "       '-1', '-7', '-13.5', '-12', '-6', '-9', '-11.5', '-10.5', '-8.5',\n",
       "       '-4', '-11', '-8', '-5', '-15', '-7.5', '-12.5', '-14.5', '-10',\n",
       "       'PK', '-13', '-16', '-18.5', '-18', '-14', '3.5', '7', '4.5', '1',\n",
       "       '4', '6', '14', '2.5', '5', '5.5', '10.5', '7.5', '13', '15',\n",
       "       '11.5', '16', '8', '10', '14.5', '11', '6.5'], dtype=object)"
      ]
     },
     "execution_count": 16,
     "metadata": {},
     "output_type": "execute_result"
    }
   ],
   "source": [
    "df.Spread.unique()"
   ]
  },
  {
   "cell_type": "code",
   "execution_count": 28,
   "metadata": {},
   "outputs": [],
   "source": [
    "clean_spreads = []\n",
    "for index, row in df.iterrows():\n",
    "    if row['Spread'] == 'PK':\n",
    "        row['Spread'] = 0\n",
    "        clean_spreads.append(float(row['Spread']))\n",
    "    elif float(row['Spread']) < 0:\n",
    "        clean_spreads.append(float(row['Spread'])*-1)\n",
    "    else:\n",
    "        clean_spreads.append(float(row['Spread']))"
   ]
  },
  {
   "cell_type": "code",
   "execution_count": 30,
   "metadata": {},
   "outputs": [],
   "source": [
    "df['Spread'] = clean_spreads"
   ]
  },
  {
   "cell_type": "code",
   "execution_count": null,
   "metadata": {},
   "outputs": [],
   "source": [
    "spread_winner = []\n",
    "for index, row"
   ]
  }
 ],
 "metadata": {
  "kernelspec": {
   "display_name": "Python 3",
   "language": "python",
   "name": "python3"
  },
  "language_info": {
   "codemirror_mode": {
    "name": "ipython",
    "version": 3
   },
   "file_extension": ".py",
   "mimetype": "text/x-python",
   "name": "python",
   "nbconvert_exporter": "python",
   "pygments_lexer": "ipython3",
   "version": "3.6.2"
  }
 },
 "nbformat": 4,
 "nbformat_minor": 2
}
