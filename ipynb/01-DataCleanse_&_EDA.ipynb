{
 "cells": [
  {
   "cell_type": "code",
   "execution_count": 1,
   "metadata": {},
   "outputs": [],
   "source": [
    "import pandas as pd\n",
    "import numpy as np\n",
    "import matplotlib.pyplot as plt\n",
    "% matplotlib inline\n",
    "import seaborn as sns"
   ]
  },
  {
   "cell_type": "code",
   "execution_count": 2,
   "metadata": {},
   "outputs": [],
   "source": [
    "df = pd.read_csv(\"../data/NBADiamondMine.csv\")"
   ]
  },
  {
   "cell_type": "code",
   "execution_count": 4,
   "metadata": {},
   "outputs": [
    {
     "data": {
      "text/plain": [
       "(815, 31)"
      ]
     },
     "execution_count": 4,
     "metadata": {},
     "output_type": "execute_result"
    }
   ],
   "source": [
    "df.shape"
   ]
  },
  {
   "cell_type": "markdown",
   "metadata": {},
   "source": [
    "**Clean column headers**"
   ]
  },
  {
   "cell_type": "code",
   "execution_count": 14,
   "metadata": {},
   "outputs": [],
   "source": [
    "df.columns = df.columns.str.strip()\n",
    "df.rename(columns=lambda x: x.replace(' ', '_'), inplace=True)"
   ]
  },
  {
   "cell_type": "code",
   "execution_count": 15,
   "metadata": {},
   "outputs": [
    {
     "data": {
      "text/plain": [
       "Index(['#', 'Date', 'Away_Team', '1Q', '2Q', '3Q', '4Q', 'Total', 'Home_Team',\n",
       "       '1Q.1', '2Q.1', '3Q.1', '4Q.1', 'Total.1', 'Game_Total', 'Over/Under',\n",
       "       'Result', 'Favorite', 'Spread', 'Home_Pts/G', 'Home_Opp_Pts/G',\n",
       "       'Home_SRS', 'Home_Pace', 'Home_Off_Rat', 'Home_Def_Rat', 'Away_Pts/G',\n",
       "       'Away_Opp_Pts/G', 'Away_SRS', 'Away_Pace', 'Away_Off_Rat',\n",
       "       'Away_Def_Rat'],\n",
       "      dtype='object')"
      ]
     },
     "execution_count": 15,
     "metadata": {},
     "output_type": "execute_result"
    }
   ],
   "source": [
    "df.columns"
   ]
  },
  {
   "cell_type": "markdown",
   "metadata": {},
   "source": [
    "**Clean spreads**"
   ]
  },
  {
   "cell_type": "code",
   "execution_count": 16,
   "metadata": {
    "scrolled": true
   },
   "outputs": [
    {
     "data": {
      "text/plain": [
       "array(['-4.5', '-9.5', '-3', '-6.5', '-3.5', '-1.5', '-2', '-5.5', '-2.5',\n",
       "       '-1', '-7', '-13.5', '-12', '-6', '-9', '-11.5', '-10.5', '-8.5',\n",
       "       '-4', '-11', '-8', '-5', '-15', '-7.5', '-12.5', '-14.5', '-10',\n",
       "       'PK', '-13', '-16', '-18.5', '-18', '-14', '3.5', '7', '4.5', '1',\n",
       "       '4', '6', '14', '2.5', '5', '5.5', '10.5', '7.5', '13', '15',\n",
       "       '11.5', '16', '8', '10', '14.5', '11', '6.5'], dtype=object)"
      ]
     },
     "execution_count": 16,
     "metadata": {},
     "output_type": "execute_result"
    }
   ],
   "source": [
    "df.Spread.unique()"
   ]
  },
  {
   "cell_type": "code",
   "execution_count": 28,
   "metadata": {},
   "outputs": [],
   "source": [
    "clean_spreads = []\n",
    "for index, row in df.iterrows():\n",
    "    if row['Spread'] == 'PK':\n",
    "        row['Spread'] = 0\n",
    "        clean_spreads.append(float(row['Spread']))\n",
    "    elif float(row['Spread']) < 0:\n",
    "        clean_spreads.append(float(row['Spread'])*-1)\n",
    "    else:\n",
    "        clean_spreads.append(float(row['Spread']))"
   ]
  },
  {
   "cell_type": "code",
   "execution_count": 30,
   "metadata": {},
   "outputs": [],
   "source": [
    "df['Spread'] = clean_spreads"
   ]
  },
  {
   "cell_type": "markdown",
   "metadata": {},
   "source": [
    "**Fix team name abbreviations such that there is consistency across different columns**"
   ]
  },
  {
   "cell_type": "code",
   "execution_count": 35,
   "metadata": {},
   "outputs": [],
   "source": [
    "fixed_abbrevs = []\n",
    "for index, row in df.iterrows():\n",
    "    if row['Favorite'] == 'BKN':\n",
    "        fixed_abbrevs.append('BRK')\n",
    "    elif row['Favorite'] == 'CHA':\n",
    "        fixed_abbrevs.append('CHO')\n",
    "    elif row['Favorite'] == 'NOR':\n",
    "        fixed_abbrevs.append('NOP')\n",
    "    elif row['Favorite'] == 'UTH':\n",
    "        fixed_abbrevs.append('UTA')\n",
    "    else:\n",
    "        fixed_abbrevs.append(row['Favorite'])"
   ]
  },
  {
   "cell_type": "code",
   "execution_count": 42,
   "metadata": {},
   "outputs": [],
   "source": [
    "df['Favorite'] = fixed_abbrevs"
   ]
  },
  {
   "cell_type": "markdown",
   "metadata": {},
   "source": [
    "**Binary field indicating whether the favorite was the home team or the away team**"
   ]
  },
  {
   "cell_type": "code",
   "execution_count": 40,
   "metadata": {},
   "outputs": [],
   "source": [
    "df['Favorite_binary'] = np.where(df['Favorite']==df['Home_Team'], 'Home', 'Away')"
   ]
  },
  {
   "cell_type": "markdown",
   "metadata": {},
   "source": [
    "**Points difference**"
   ]
  },
  {
   "cell_type": "code",
   "execution_count": 48,
   "metadata": {},
   "outputs": [],
   "source": [
    "df['Points_Diff_Fav-Under'] = np.where(df['Favorite_binary']=='Home', \n",
    "                             df['Total.1'] - df['Total'], \n",
    "                             df['Total'] - df['Total.1'])"
   ]
  },
  {
   "cell_type": "markdown",
   "metadata": {},
   "source": [
    "**Point differential vs Spread to d"
   ]
  },
  {
   "cell_type": "code",
   "execution_count": 54,
   "metadata": {},
   "outputs": [],
   "source": [
    "df['Diff_from_Spread'] = df['Points_Diff_Fav-Under'] - df['Spread']\n",
    "df['Spread_Winner'] = np.where(df['Diff_from_Spread'] > 0, 'Favorite', 'Underdog')"
   ]
  },
  {
   "cell_type": "code",
   "execution_count": 55,
   "metadata": {},
   "outputs": [
    {
     "data": {
      "text/html": [
       "<div>\n",
       "<table border=\"1\" class=\"dataframe\">\n",
       "  <thead>\n",
       "    <tr style=\"text-align: right;\">\n",
       "      <th></th>\n",
       "      <th>#</th>\n",
       "      <th>Date</th>\n",
       "      <th>Away_Team</th>\n",
       "      <th>1Q</th>\n",
       "      <th>2Q</th>\n",
       "      <th>3Q</th>\n",
       "      <th>4Q</th>\n",
       "      <th>Total</th>\n",
       "      <th>Home_Team</th>\n",
       "      <th>1Q.1</th>\n",
       "      <th>...</th>\n",
       "      <th>Away_Pts/G</th>\n",
       "      <th>Away_Opp_Pts/G</th>\n",
       "      <th>Away_SRS</th>\n",
       "      <th>Away_Pace</th>\n",
       "      <th>Away_Off_Rat</th>\n",
       "      <th>Away_Def_Rat</th>\n",
       "      <th>Favorite_binary</th>\n",
       "      <th>Points_Diff_Fav-Under</th>\n",
       "      <th>Diff_from_Spread</th>\n",
       "      <th>Spread_Winner</th>\n",
       "    </tr>\n",
       "  </thead>\n",
       "  <tbody>\n",
       "    <tr>\n",
       "      <th>494</th>\n",
       "      <td>496</td>\n",
       "      <td>12/25/2017</td>\n",
       "      <td>WAS</td>\n",
       "      <td>30</td>\n",
       "      <td>22</td>\n",
       "      <td>28</td>\n",
       "      <td>31</td>\n",
       "      <td>111</td>\n",
       "      <td>BOS</td>\n",
       "      <td>24</td>\n",
       "      <td>...</td>\n",
       "      <td>107.3</td>\n",
       "      <td>105.6</td>\n",
       "      <td>1.11</td>\n",
       "      <td>97.4</td>\n",
       "      <td>109.5</td>\n",
       "      <td>107.8</td>\n",
       "      <td>Home</td>\n",
       "      <td>-8</td>\n",
       "      <td>-12.0</td>\n",
       "      <td>Underdog</td>\n",
       "    </tr>\n",
       "    <tr>\n",
       "      <th>587</th>\n",
       "      <td>589</td>\n",
       "      <td>1/7/2018</td>\n",
       "      <td>OKC</td>\n",
       "      <td>23</td>\n",
       "      <td>30</td>\n",
       "      <td>29</td>\n",
       "      <td>18</td>\n",
       "      <td>100</td>\n",
       "      <td>PHO</td>\n",
       "      <td>28</td>\n",
       "      <td>...</td>\n",
       "      <td>106.5</td>\n",
       "      <td>102.5</td>\n",
       "      <td>3.83</td>\n",
       "      <td>95.8</td>\n",
       "      <td>110.3</td>\n",
       "      <td>106.1</td>\n",
       "      <td>Away</td>\n",
       "      <td>-14</td>\n",
       "      <td>-22.5</td>\n",
       "      <td>Underdog</td>\n",
       "    </tr>\n",
       "    <tr>\n",
       "      <th>593</th>\n",
       "      <td>595</td>\n",
       "      <td>1/8/2018</td>\n",
       "      <td>HOU</td>\n",
       "      <td>35</td>\n",
       "      <td>25</td>\n",
       "      <td>27</td>\n",
       "      <td>29</td>\n",
       "      <td>116</td>\n",
       "      <td>CHI</td>\n",
       "      <td>22</td>\n",
       "      <td>...</td>\n",
       "      <td>113.8</td>\n",
       "      <td>106.1</td>\n",
       "      <td>7.39</td>\n",
       "      <td>98.6</td>\n",
       "      <td>114.9</td>\n",
       "      <td>107.1</td>\n",
       "      <td>Away</td>\n",
       "      <td>9</td>\n",
       "      <td>3.0</td>\n",
       "      <td>Favorite</td>\n",
       "    </tr>\n",
       "    <tr>\n",
       "      <th>666</th>\n",
       "      <td>668</td>\n",
       "      <td>1/19/2018</td>\n",
       "      <td>SAS</td>\n",
       "      <td>18</td>\n",
       "      <td>19</td>\n",
       "      <td>23</td>\n",
       "      <td>23</td>\n",
       "      <td>83</td>\n",
       "      <td>TOR</td>\n",
       "      <td>17</td>\n",
       "      <td>...</td>\n",
       "      <td>100.7</td>\n",
       "      <td>97.6</td>\n",
       "      <td>2.61</td>\n",
       "      <td>94.3</td>\n",
       "      <td>106.8</td>\n",
       "      <td>103.5</td>\n",
       "      <td>Home</td>\n",
       "      <td>3</td>\n",
       "      <td>-3.0</td>\n",
       "      <td>Underdog</td>\n",
       "    </tr>\n",
       "    <tr>\n",
       "      <th>500</th>\n",
       "      <td>502</td>\n",
       "      <td>12/26/2017</td>\n",
       "      <td>CHI</td>\n",
       "      <td>22</td>\n",
       "      <td>34</td>\n",
       "      <td>27</td>\n",
       "      <td>32</td>\n",
       "      <td>115</td>\n",
       "      <td>MIL</td>\n",
       "      <td>31</td>\n",
       "      <td>...</td>\n",
       "      <td>103.6</td>\n",
       "      <td>109.3</td>\n",
       "      <td>-5.29</td>\n",
       "      <td>98.1</td>\n",
       "      <td>104.1</td>\n",
       "      <td>109.8</td>\n",
       "      <td>Home</td>\n",
       "      <td>-9</td>\n",
       "      <td>-16.5</td>\n",
       "      <td>Underdog</td>\n",
       "    </tr>\n",
       "    <tr>\n",
       "      <th>194</th>\n",
       "      <td>196</td>\n",
       "      <td>11/13/2017</td>\n",
       "      <td>ATL</td>\n",
       "      <td>32</td>\n",
       "      <td>18</td>\n",
       "      <td>30</td>\n",
       "      <td>25</td>\n",
       "      <td>105</td>\n",
       "      <td>NOP</td>\n",
       "      <td>23</td>\n",
       "      <td>...</td>\n",
       "      <td>103.6</td>\n",
       "      <td>108.3</td>\n",
       "      <td>-4.73</td>\n",
       "      <td>97.2</td>\n",
       "      <td>106.4</td>\n",
       "      <td>111.2</td>\n",
       "      <td>Away</td>\n",
       "      <td>-1</td>\n",
       "      <td>-10.5</td>\n",
       "      <td>Underdog</td>\n",
       "    </tr>\n",
       "    <tr>\n",
       "      <th>326</th>\n",
       "      <td>328</td>\n",
       "      <td>12/2/2017</td>\n",
       "      <td>LAC</td>\n",
       "      <td>17</td>\n",
       "      <td>21</td>\n",
       "      <td>28</td>\n",
       "      <td>16</td>\n",
       "      <td>82</td>\n",
       "      <td>DAL</td>\n",
       "      <td>24</td>\n",
       "      <td>...</td>\n",
       "      <td>107.6</td>\n",
       "      <td>107.3</td>\n",
       "      <td>0.27</td>\n",
       "      <td>98.3</td>\n",
       "      <td>109.2</td>\n",
       "      <td>108.9</td>\n",
       "      <td>Home</td>\n",
       "      <td>26</td>\n",
       "      <td>21.5</td>\n",
       "      <td>Favorite</td>\n",
       "    </tr>\n",
       "    <tr>\n",
       "      <th>636</th>\n",
       "      <td>638</td>\n",
       "      <td>1/14/2018</td>\n",
       "      <td>POR</td>\n",
       "      <td>33</td>\n",
       "      <td>10</td>\n",
       "      <td>31</td>\n",
       "      <td>29</td>\n",
       "      <td>103</td>\n",
       "      <td>MIN</td>\n",
       "      <td>31</td>\n",
       "      <td>...</td>\n",
       "      <td>104.9</td>\n",
       "      <td>103.1</td>\n",
       "      <td>1.33</td>\n",
       "      <td>96.4</td>\n",
       "      <td>108.4</td>\n",
       "      <td>106.4</td>\n",
       "      <td>Home</td>\n",
       "      <td>17</td>\n",
       "      <td>11.0</td>\n",
       "      <td>Favorite</td>\n",
       "    </tr>\n",
       "    <tr>\n",
       "      <th>163</th>\n",
       "      <td>165</td>\n",
       "      <td>11/9/2017</td>\n",
       "      <td>LAL</td>\n",
       "      <td>34</td>\n",
       "      <td>22</td>\n",
       "      <td>21</td>\n",
       "      <td>18</td>\n",
       "      <td>95</td>\n",
       "      <td>WAS</td>\n",
       "      <td>37</td>\n",
       "      <td>...</td>\n",
       "      <td>106.7</td>\n",
       "      <td>110.3</td>\n",
       "      <td>-3.14</td>\n",
       "      <td>100.9</td>\n",
       "      <td>104.2</td>\n",
       "      <td>107.8</td>\n",
       "      <td>Home</td>\n",
       "      <td>16</td>\n",
       "      <td>6.5</td>\n",
       "      <td>Favorite</td>\n",
       "    </tr>\n",
       "    <tr>\n",
       "      <th>37</th>\n",
       "      <td>39</td>\n",
       "      <td>10/22/2017</td>\n",
       "      <td>ATL</td>\n",
       "      <td>25</td>\n",
       "      <td>28</td>\n",
       "      <td>24</td>\n",
       "      <td>27</td>\n",
       "      <td>104</td>\n",
       "      <td>BRK</td>\n",
       "      <td>19</td>\n",
       "      <td>...</td>\n",
       "      <td>103.6</td>\n",
       "      <td>108.3</td>\n",
       "      <td>-4.73</td>\n",
       "      <td>97.2</td>\n",
       "      <td>106.4</td>\n",
       "      <td>111.2</td>\n",
       "      <td>Away</td>\n",
       "      <td>-12</td>\n",
       "      <td>-13.0</td>\n",
       "      <td>Underdog</td>\n",
       "    </tr>\n",
       "  </tbody>\n",
       "</table>\n",
       "<p>10 rows × 35 columns</p>\n",
       "</div>"
      ],
      "text/plain": [
       "       #        Date Away_Team  1Q  2Q  3Q  4Q  Total Home_Team  1Q.1  \\\n",
       "494  496  12/25/2017       WAS  30  22  28  31    111       BOS    24   \n",
       "587  589    1/7/2018       OKC  23  30  29  18    100       PHO    28   \n",
       "593  595    1/8/2018       HOU  35  25  27  29    116       CHI    22   \n",
       "666  668   1/19/2018       SAS  18  19  23  23     83       TOR    17   \n",
       "500  502  12/26/2017       CHI  22  34  27  32    115       MIL    31   \n",
       "194  196  11/13/2017       ATL  32  18  30  25    105       NOP    23   \n",
       "326  328   12/2/2017       LAC  17  21  28  16     82       DAL    24   \n",
       "636  638   1/14/2018       POR  33  10  31  29    103       MIN    31   \n",
       "163  165   11/9/2017       LAL  34  22  21  18     95       WAS    37   \n",
       "37    39  10/22/2017       ATL  25  28  24  27    104       BRK    19   \n",
       "\n",
       "         ...        Away_Pts/G  Away_Opp_Pts/G  Away_SRS  Away_Pace  \\\n",
       "494      ...             107.3           105.6      1.11       97.4   \n",
       "587      ...             106.5           102.5      3.83       95.8   \n",
       "593      ...             113.8           106.1      7.39       98.6   \n",
       "666      ...             100.7            97.6      2.61       94.3   \n",
       "500      ...             103.6           109.3     -5.29       98.1   \n",
       "194      ...             103.6           108.3     -4.73       97.2   \n",
       "326      ...             107.6           107.3      0.27       98.3   \n",
       "636      ...             104.9           103.1      1.33       96.4   \n",
       "163      ...             106.7           110.3     -3.14      100.9   \n",
       "37       ...             103.6           108.3     -4.73       97.2   \n",
       "\n",
       "     Away_Off_Rat  Away_Def_Rat Favorite_binary Points_Diff_Fav-Under  \\\n",
       "494         109.5         107.8            Home                    -8   \n",
       "587         110.3         106.1            Away                   -14   \n",
       "593         114.9         107.1            Away                     9   \n",
       "666         106.8         103.5            Home                     3   \n",
       "500         104.1         109.8            Home                    -9   \n",
       "194         106.4         111.2            Away                    -1   \n",
       "326         109.2         108.9            Home                    26   \n",
       "636         108.4         106.4            Home                    17   \n",
       "163         104.2         107.8            Home                    16   \n",
       "37          106.4         111.2            Away                   -12   \n",
       "\n",
       "     Diff_from_Spread  Spread_Winner  \n",
       "494             -12.0       Underdog  \n",
       "587             -22.5       Underdog  \n",
       "593               3.0       Favorite  \n",
       "666              -3.0       Underdog  \n",
       "500             -16.5       Underdog  \n",
       "194             -10.5       Underdog  \n",
       "326              21.5       Favorite  \n",
       "636              11.0       Favorite  \n",
       "163               6.5       Favorite  \n",
       "37              -13.0       Underdog  \n",
       "\n",
       "[10 rows x 35 columns]"
      ]
     },
     "execution_count": 55,
     "metadata": {},
     "output_type": "execute_result"
    }
   ],
   "source": [
    "df.sample(10)"
   ]
  },
  {
   "cell_type": "code",
   "execution_count": null,
   "metadata": {},
   "outputs": [],
   "source": []
  }
 ],
 "metadata": {
  "kernelspec": {
   "display_name": "Python 3",
   "language": "python",
   "name": "python3"
  },
  "language_info": {
   "codemirror_mode": {
    "name": "ipython",
    "version": 3
   },
   "file_extension": ".py",
   "mimetype": "text/x-python",
   "name": "python",
   "nbconvert_exporter": "python",
   "pygments_lexer": "ipython3",
   "version": "3.6.2"
  }
 },
 "nbformat": 4,
 "nbformat_minor": 2
}
